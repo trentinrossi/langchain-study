{
  "cells": [
    {
      "cell_type": "markdown",
      "metadata": {
        "id": "OMUrWfETCvXg"
      },
      "source": [
        "## Chat Models - Prompt Templates\n"
      ]
    },
    {
      "cell_type": "code",
      "execution_count": null,
      "metadata": {
        "id": "_qZ5DfLXCvXh"
      },
      "outputs": [],
      "source": [
        "%pip install langchain langchain_openai --upgrade"
      ]
    },
    {
      "cell_type": "code",
      "execution_count": null,
      "metadata": {
        "id": "x0nefArFCvXi"
      },
      "outputs": [],
      "source": [
        "import os\n",
        "os.environ['OPENAI_API_KEY'] = 'API_KEY_HERE'"
      ]
    },
    {
      "cell_type": "code",
      "execution_count": 1,
      "metadata": {
        "id": "Qvoqnv_vCvXi"
      },
      "outputs": [],
      "source": [
        "from langchain_openai import ChatOpenAI\n",
        "from langchain_core.prompts.chat import (\n",
        "    ChatPromptTemplate,\n",
        "    SystemMessagePromptTemplate,\n",
        ")\n",
        "\n",
        "# chat = ChatOpenAI(openai_api_key=\"...\")\n",
        "\n",
        "# If you have an envionrment variable set for OPENAI_API_KEY, you can just do:\n",
        "chat = ChatOpenAI()"
      ]
    },
    {
      "cell_type": "code",
      "execution_count": 2,
      "metadata": {
        "id": "1RkKcd3dCvXi"
      },
      "outputs": [],
      "source": [
        "template = \"What would be a good company name for a {company_description}. List 3 company names that you like. Make sure that the list is a numbered list.\"\n",
        "\n",
        "system_message_prompt = SystemMessagePromptTemplate.from_template(template)\n",
        "chat_prompt = ChatPromptTemplate.from_messages([system_message_prompt])"
      ]
    },
    {
      "cell_type": "code",
      "execution_count": 3,
      "metadata": {
        "id": "laACsA6ACvXi"
      },
      "outputs": [],
      "source": [
        "# Get a chat completion from the formatted messages\n",
        "result = chat.invoke(\n",
        "    chat_prompt.format_prompt(company_description=\"Data engineering\").to_messages()\n",
        ")"
      ]
    },
    {
      "cell_type": "code",
      "execution_count": 4,
      "metadata": {
        "id": "zvKXDDp8CvXi",
        "outputId": "167f9208-fc9b-4658-b7e3-6bd87fb221b2"
      },
      "outputs": [
        {
          "name": "stdout",
          "output_type": "stream",
          "text": [
            "1. DataCraft\n",
            "2. ByteWorks\n",
            "3. InfoGenius\n"
          ]
        }
      ],
      "source": [
        "print(result.content)"
      ]
    }
  ],
  "metadata": {
    "colab": {
      "provenance": []
    },
    "kernelspec": {
      "display_name": "base",
      "language": "python",
      "name": "python3"
    },
    "language_info": {
      "codemirror_mode": {
        "name": "ipython",
        "version": 3
      },
      "file_extension": ".py",
      "mimetype": "text/x-python",
      "name": "python",
      "nbconvert_exporter": "python",
      "pygments_lexer": "ipython3",
      "version": "3.12.1"
    },
    "orig_nbformat": 4
  },
  "nbformat": 4,
  "nbformat_minor": 0
}
