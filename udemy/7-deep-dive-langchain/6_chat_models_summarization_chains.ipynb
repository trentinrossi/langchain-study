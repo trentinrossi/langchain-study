{
  "cells": [
    {
      "cell_type": "markdown",
      "metadata": {
        "id": "knnlmjayCXwR"
      },
      "source": [
        "## Chat Models - Summarizing Chains\n"
      ]
    },
    {
      "cell_type": "code",
      "execution_count": 6,
      "metadata": {
        "id": "zPEUQc-ICXwT"
      },
      "outputs": [
        {
          "name": "stdout",
          "output_type": "stream",
          "text": [
            "Requirement already satisfied: langchain_community in c:\\users\\rgri\\appdata\\local\\programs\\python\\python312\\lib\\site-packages (0.0.14)\n",
            "Collecting bs4\n",
            "  Downloading bs4-0.0.2-py2.py3-none-any.whl.metadata (411 bytes)\n",
            "Requirement already satisfied: PyYAML>=5.3 in c:\\users\\rgri\\appdata\\local\\programs\\python\\python312\\lib\\site-packages (from langchain_community) (6.0.1)\n",
            "Requirement already satisfied: SQLAlchemy<3,>=1.4 in c:\\users\\rgri\\appdata\\local\\programs\\python\\python312\\lib\\site-packages (from langchain_community) (2.0.25)\n",
            "Requirement already satisfied: aiohttp<4.0.0,>=3.8.3 in c:\\users\\rgri\\appdata\\local\\programs\\python\\python312\\lib\\site-packages (from langchain_community) (3.9.1)\n",
            "Requirement already satisfied: dataclasses-json<0.7,>=0.5.7 in c:\\users\\rgri\\appdata\\local\\programs\\python\\python312\\lib\\site-packages (from langchain_community) (0.6.3)\n",
            "Requirement already satisfied: langchain-core<0.2,>=0.1.14 in c:\\users\\rgri\\appdata\\local\\programs\\python\\python312\\lib\\site-packages (from langchain_community) (0.1.14)\n",
            "Requirement already satisfied: langsmith<0.1.0,>=0.0.63 in c:\\users\\rgri\\appdata\\local\\programs\\python\\python312\\lib\\site-packages (from langchain_community) (0.0.83)\n",
            "Requirement already satisfied: numpy<2,>=1 in c:\\users\\rgri\\appdata\\local\\programs\\python\\python312\\lib\\site-packages (from langchain_community) (1.26.3)\n",
            "Requirement already satisfied: requests<3,>=2 in c:\\users\\rgri\\appdata\\local\\programs\\python\\python312\\lib\\site-packages (from langchain_community) (2.31.0)\n",
            "Requirement already satisfied: tenacity<9.0.0,>=8.1.0 in c:\\users\\rgri\\appdata\\local\\programs\\python\\python312\\lib\\site-packages (from langchain_community) (8.2.3)\n",
            "Collecting beautifulsoup4 (from bs4)\n",
            "  Downloading beautifulsoup4-4.12.3-py3-none-any.whl.metadata (3.8 kB)\n",
            "Requirement already satisfied: attrs>=17.3.0 in c:\\users\\rgri\\appdata\\local\\programs\\python\\python312\\lib\\site-packages (from aiohttp<4.0.0,>=3.8.3->langchain_community) (23.2.0)\n",
            "Requirement already satisfied: multidict<7.0,>=4.5 in c:\\users\\rgri\\appdata\\local\\programs\\python\\python312\\lib\\site-packages (from aiohttp<4.0.0,>=3.8.3->langchain_community) (6.0.4)\n",
            "Requirement already satisfied: yarl<2.0,>=1.0 in c:\\users\\rgri\\appdata\\local\\programs\\python\\python312\\lib\\site-packages (from aiohttp<4.0.0,>=3.8.3->langchain_community) (1.9.4)\n",
            "Requirement already satisfied: frozenlist>=1.1.1 in c:\\users\\rgri\\appdata\\local\\programs\\python\\python312\\lib\\site-packages (from aiohttp<4.0.0,>=3.8.3->langchain_community) (1.4.1)\n",
            "Requirement already satisfied: aiosignal>=1.1.2 in c:\\users\\rgri\\appdata\\local\\programs\\python\\python312\\lib\\site-packages (from aiohttp<4.0.0,>=3.8.3->langchain_community) (1.3.1)\n",
            "Requirement already satisfied: marshmallow<4.0.0,>=3.18.0 in c:\\users\\rgri\\appdata\\local\\programs\\python\\python312\\lib\\site-packages (from dataclasses-json<0.7,>=0.5.7->langchain_community) (3.20.2)\n",
            "Requirement already satisfied: typing-inspect<1,>=0.4.0 in c:\\users\\rgri\\appdata\\local\\programs\\python\\python312\\lib\\site-packages (from dataclasses-json<0.7,>=0.5.7->langchain_community) (0.9.0)\n",
            "Requirement already satisfied: anyio<5,>=3 in c:\\users\\rgri\\appdata\\local\\programs\\python\\python312\\lib\\site-packages (from langchain-core<0.2,>=0.1.14->langchain_community) (4.2.0)\n",
            "Requirement already satisfied: jsonpatch<2.0,>=1.33 in c:\\users\\rgri\\appdata\\local\\programs\\python\\python312\\lib\\site-packages (from langchain-core<0.2,>=0.1.14->langchain_community) (1.33)\n",
            "Requirement already satisfied: packaging<24.0,>=23.2 in c:\\users\\rgri\\appdata\\local\\programs\\python\\python312\\lib\\site-packages (from langchain-core<0.2,>=0.1.14->langchain_community) (23.2)\n",
            "Requirement already satisfied: pydantic<3,>=1 in c:\\users\\rgri\\appdata\\local\\programs\\python\\python312\\lib\\site-packages (from langchain-core<0.2,>=0.1.14->langchain_community) (2.5.3)\n",
            "Requirement already satisfied: charset-normalizer<4,>=2 in c:\\users\\rgri\\appdata\\local\\programs\\python\\python312\\lib\\site-packages (from requests<3,>=2->langchain_community) (3.3.2)\n",
            "Requirement already satisfied: idna<4,>=2.5 in c:\\users\\rgri\\appdata\\local\\programs\\python\\python312\\lib\\site-packages (from requests<3,>=2->langchain_community) (3.6)\n",
            "Requirement already satisfied: urllib3<3,>=1.21.1 in c:\\users\\rgri\\appdata\\local\\programs\\python\\python312\\lib\\site-packages (from requests<3,>=2->langchain_community) (2.1.0)\n",
            "Requirement already satisfied: certifi>=2017.4.17 in c:\\users\\rgri\\appdata\\local\\programs\\python\\python312\\lib\\site-packages (from requests<3,>=2->langchain_community) (2023.11.17)\n",
            "Requirement already satisfied: typing-extensions>=4.6.0 in c:\\users\\rgri\\appdata\\local\\programs\\python\\python312\\lib\\site-packages (from SQLAlchemy<3,>=1.4->langchain_community) (4.9.0)\n",
            "Requirement already satisfied: greenlet!=0.4.17 in c:\\users\\rgri\\appdata\\local\\programs\\python\\python312\\lib\\site-packages (from SQLAlchemy<3,>=1.4->langchain_community) (3.0.3)\n",
            "Collecting soupsieve>1.2 (from beautifulsoup4->bs4)\n",
            "  Downloading soupsieve-2.5-py3-none-any.whl.metadata (4.7 kB)\n",
            "Requirement already satisfied: sniffio>=1.1 in c:\\users\\rgri\\appdata\\local\\programs\\python\\python312\\lib\\site-packages (from anyio<5,>=3->langchain-core<0.2,>=0.1.14->langchain_community) (1.3.0)\n",
            "Requirement already satisfied: jsonpointer>=1.9 in c:\\users\\rgri\\appdata\\local\\programs\\python\\python312\\lib\\site-packages (from jsonpatch<2.0,>=1.33->langchain-core<0.2,>=0.1.14->langchain_community) (2.4)\n",
            "Requirement already satisfied: annotated-types>=0.4.0 in c:\\users\\rgri\\appdata\\local\\programs\\python\\python312\\lib\\site-packages (from pydantic<3,>=1->langchain-core<0.2,>=0.1.14->langchain_community) (0.6.0)\n",
            "Requirement already satisfied: pydantic-core==2.14.6 in c:\\users\\rgri\\appdata\\local\\programs\\python\\python312\\lib\\site-packages (from pydantic<3,>=1->langchain-core<0.2,>=0.1.14->langchain_community) (2.14.6)\n",
            "Requirement already satisfied: mypy-extensions>=0.3.0 in c:\\users\\rgri\\appdata\\local\\programs\\python\\python312\\lib\\site-packages (from typing-inspect<1,>=0.4.0->dataclasses-json<0.7,>=0.5.7->langchain_community) (1.0.0)\n",
            "Downloading bs4-0.0.2-py2.py3-none-any.whl (1.2 kB)\n",
            "Downloading beautifulsoup4-4.12.3-py3-none-any.whl (147 kB)\n",
            "   ---------------------------------------- 0.0/147.9 kB ? eta -:--:--\n",
            "   -------- ------------------------------- 30.7/147.9 kB 1.4 MB/s eta 0:00:01\n",
            "   ---------------------------------------- 147.9/147.9 kB 1.8 MB/s eta 0:00:00\n",
            "Downloading soupsieve-2.5-py3-none-any.whl (36 kB)\n",
            "Installing collected packages: soupsieve, beautifulsoup4, bs4\n",
            "Successfully installed beautifulsoup4-4.12.3 bs4-0.0.2 soupsieve-2.5\n",
            "Note: you may need to restart the kernel to use updated packages.\n"
          ]
        }
      ],
      "source": [
        "%pip install langchain_community bs4"
      ]
    },
    {
      "cell_type": "code",
      "execution_count": null,
      "metadata": {
        "id": "4pPJ7U0xCXwU"
      },
      "outputs": [],
      "source": [
        "import os\n",
        "os.environ['OPENAI_API_KEY'] = 'API_KEY_HERE'"
      ]
    },
    {
      "cell_type": "code",
      "execution_count": 9,
      "metadata": {
        "id": "7anKhqlOCXwU"
      },
      "outputs": [
        {
          "data": {
            "text/plain": [
              "{'input_documents': [Document(page_content=\"\\n\\n\\n\\n\\n\\n\\nNowgoal Mobi - Live Football Scores & Live Streaming\\n\\n\\n\\n\\n\\n\\n\\n\\n\\n\\n\\n\\n\\n\\n\\n\\n\\n\\n\\n\\n\\n\\n\\n\\n\\n\\n\\n\\n\\n\\n\\n\\n\\n\\n\\n\\n\\n\\n\\n\\n\\n\\n\\n\\n\\n\\n\\n\\n\\n\\nFootball\\n\\n\\n\\n\\nFootball\\n\\n\\n\\n\\n\\n\\nBasketball\\n\\n\\n\\n\\n\\n\\nTennis\\n\\n\\n\\n\\n\\n\\nBaseball\\n\\n\\n\\n\\n\\n\\n\\n\\n\\nScores\\n\\n\\r\\n                                        Community\\r\\n                                        \\n\\n\\nLeagues\\n\\n\\n\\n\\n\\n\\n\\n\\n\\nAll\\nHot\\nFavorites\\nFinished\\nFixtures\\n\\n\\n\\n\\n\\n\\r\\n        Hidden 0 ,\\r\\n        \\r\\n            show all\\r\\n        \\n\\n\\n\\n\\nLoading...Nowgoal Livescore\\n\\n\\n\\n\\n\\n\\n\\n\\n\\n\\n\\n\\n\\n\\n\\n\\n\\n\\nx\\nNotifications\\n\\nDear Users,\\nNowgoal.ltd has been updated into the new domain. Please bookmark and get started with our new site：https://www.nowgoal24.com\\n\\n\\n\\n\\n\\n\\n\\n\\n\\n\\n\\n\\n\\n\\n\\n\\n\\n\\n\\n\\n\\n\\n\\n\\n\\n\\n\\n\\n\\n\\n\\n\\nNowgoal24.com\\n\\n\\nAdvertise\\nDisclaimer\\nFeedback\\nSitemap\\n\\n\\n\\n\\n Desktop View\\r\\n                \\n\\n\\n\\n App\\r\\n                \\n\\n\\n\\n\\n\\n Football\\r\\n                \\n\\n\\n\\n Basketball\\r\\n                \\n\\n\\n\\nFacebook\\nTwitter\\nTelegram\\n\\n\\nCopyright © 2024 NowGoal All Rights Reserved.\\n\\n\\n\\r\\n                Nowgoal's Mobi version can offer you the fast soccer(football) and basketball livescores every time, every where.\\r\\nNowgoal's livescore system is supplying the real time scores for more than 1000 football + basketball competitions! Livescore, latest results, standings, fixtures, H2H stats and odds comparison.\\r\\nNowgoal is a socially responsible sports informational website, we support responsible sports entertainment. You must be at least 18 years of age to use our info and must comply with laws and regulation in your own country.\\r\\n                \\r\\n                    Show ALL\\r\\n                \\n\\n\\n\\n\\n\\n \\n\\n \\n\\n\\n\\n\\n\\n\\n\", metadata={'source': 'https://www.nowgoal24.com/', 'title': 'Nowgoal Mobi - Live Football Scores & Live Streaming', 'description': 'Nowgoal Mobi offers live football scores, free live streaming and match details for 1500+ soccer leagues & cups.', 'language': 'en-my'})],\n",
              " 'output_text': 'Nowgoal Mobi is a website that provides live football scores and live streaming for football, basketball, tennis, and baseball. The website has been updated to a new domain, Nowgoal24.com. It offers fast and real-time scores for over 1000 football and basketball competitions, along with latest results, standings, fixtures, H2H stats, and odds comparison. Nowgoal is a socially responsible sports informational website and users must be at least 18 years old to use the information provided.'}"
            ]
          },
          "execution_count": 9,
          "metadata": {},
          "output_type": "execute_result"
        }
      ],
      "source": [
        "from langchain_openai.chat_models import ChatOpenAI\n",
        "from langchain.chains import LLMChain\n",
        "from langchain_community.document_loaders import WebBaseLoader\n",
        "from langchain.chains.summarize import load_summarize_chain\n",
        "from langchain.prompts import PromptTemplate\n",
        "\n",
        "loader = WebBaseLoader(\"https://lilianweng.github.io/posts/2023-06-23-agent/\")\n",
        "docs = loader.load()\n",
        "\n",
        "llm = ChatOpenAI(temperature=0, model_name=\"gpt-3.5-turbo-16k\")\n",
        "chain = load_summarize_chain(llm, chain_type=\"stuff\")\n",
        "\n",
        "chain.invoke(docs)"
      ]
    },
    {
      "cell_type": "code",
      "execution_count": 10,
      "metadata": {
        "id": "LywhsO7hCXwU"
      },
      "outputs": [],
      "source": [
        "from langchain.chains.mapreduce import MapReduceChain\n",
        "from langchain.text_splitter import CharacterTextSplitter\n",
        "from langchain.chains import ReduceDocumentsChain, MapReduceDocumentsChain, StuffDocumentsChain\n",
        "\n",
        "llm = ChatOpenAI(temperature=0)\n",
        "\n",
        "# Map\n",
        "map_template = \"\"\"The following is a set of documents\n",
        "{docs}\n",
        "Based on this list of docs, please identify the main themes\n",
        "Helpful Answer:\"\"\"\n",
        "map_prompt = PromptTemplate.from_template(map_template)\n",
        "\n",
        "# map_chain:\n",
        "map_chain = LLMChain(llm=llm, prompt=map_prompt)\n",
        "\n",
        "# Reduce\n",
        "reduce_template = \"\"\"The following is set of summaries:\n",
        "{doc_summaries}\n",
        "Take these and distill it into a final, consolidated summary of the main themes.\n",
        "Helpful Answer:\"\"\"\n",
        "reduce_prompt = PromptTemplate.from_template(reduce_template)"
      ]
    },
    {
      "cell_type": "code",
      "execution_count": 11,
      "metadata": {
        "id": "X5BuAD0bCXwU"
      },
      "outputs": [],
      "source": [
        "# Run chain\n",
        "reduce_chain = LLMChain(llm=llm, prompt=reduce_prompt)\n",
        "\n",
        "# Takes a list of documents, combines them into a single string, and passes this to an LLMChain\n",
        "combine_documents_chain = StuffDocumentsChain(\n",
        "    llm_chain=reduce_chain, document_variable_name=\"doc_summaries\"\n",
        ")\n",
        "\n",
        "# Combines and iteravely reduces the mapped documents\n",
        "reduce_documents_chain = ReduceDocumentsChain(\n",
        "    # This is final chain that is called.\n",
        "    combine_documents_chain=combine_documents_chain,\n",
        "    # If documents exceed context for `StuffDocumentsChain`\n",
        "    collapse_documents_chain=combine_documents_chain,\n",
        "    # The maximum number of tokens to group documents into.\n",
        "    token_max=4000,\n",
        ")"
      ]
    },
    {
      "cell_type": "code",
      "execution_count": 12,
      "metadata": {
        "id": "KlimkByuCXwU"
      },
      "outputs": [],
      "source": [
        "# Combining documents by mapping a chain over them, then combining results\n",
        "map_reduce_chain = MapReduceDocumentsChain(\n",
        "    # Map chain\n",
        "    llm_chain=map_chain,\n",
        "    # Reduce chain\n",
        "    reduce_documents_chain=reduce_documents_chain,\n",
        "    # The variable name in the llm_chain to put the documents in\n",
        "    document_variable_name=\"docs\",\n",
        "    # Return the results of the map steps in the output\n",
        "    return_intermediate_steps=False,\n",
        ")\n",
        "\n",
        "text_splitter = CharacterTextSplitter.from_tiktoken_encoder(\n",
        "    chunk_size=1000, chunk_overlap=0\n",
        ")\n",
        "split_docs = text_splitter.split_documents(docs)"
      ]
    },
    {
      "cell_type": "code",
      "execution_count": 13,
      "metadata": {
        "id": "gMrIOxL8CXwV"
      },
      "outputs": [
        {
          "name": "stdout",
          "output_type": "stream",
          "text": [
            "{'input_documents': [Document(page_content=\"Nowgoal Mobi - Live Football Scores & Live Streaming\\n\\n\\nFootball\\n\\n\\nFootball\\n\\n\\nBasketball\\n\\n\\nTennis\\n\\n\\nBaseball\\n\\nScores\\n\\n\\r\\n                                        Community\\r\\n                                        \\n\\n\\nLeagues\\n\\nAll\\nHot\\nFavorites\\nFinished\\nFixtures\\n\\n\\r\\n        Hidden 0 ,\\r\\n        \\r\\n            show all\\r\\n        \\n\\n\\nLoading...Nowgoal Livescore\\n\\n\\nx\\nNotifications\\n\\nDear Users,\\nNowgoal.ltd has been updated into the new domain. Please bookmark and get started with our new site：https://www.nowgoal24.com\\n\\n\\nNowgoal24.com\\n\\n\\nAdvertise\\nDisclaimer\\nFeedback\\nSitemap\\n\\n\\n Desktop View\\r\\n                \\n\\n App\\r\\n                \\n\\n Football\\r\\n                \\n\\n Basketball\\r\\n                \\n\\nFacebook\\nTwitter\\nTelegram\\n\\n\\nCopyright © 2024 NowGoal All Rights Reserved.\\n\\n\\n\\r\\n                Nowgoal's Mobi version can offer you the fast soccer(football) and basketball livescores every time, every where.\\r\\nNowgoal's livescore system is supplying the real time scores for more than 1000 football + basketball competitions! Livescore, latest results, standings, fixtures, H2H stats and odds comparison.\\r\\nNowgoal is a socially responsible sports informational website, we support responsible sports entertainment. You must be at least 18 years of age to use our info and must comply with laws and regulation in your own country.\\r\\n                \\r\\n                    Show ALL\", metadata={'source': 'https://www.nowgoal24.com/', 'title': 'Nowgoal Mobi - Live Football Scores & Live Streaming', 'description': 'Nowgoal Mobi offers live football scores, free live streaming and match details for 1500+ soccer leagues & cups.', 'language': 'en-my'})], 'output_text': \"The main themes of the provided documents are live sports scores and streaming, various sports such as football, basketball, tennis, and baseball, displaying scores for different sports, community and leagues related to sports, the Nowgoal livescore system, notifications for sports events, advertising opportunities, disclaimers, feedback, sitemap, desktop and mobile app versions of Nowgoal, social media platforms like Facebook, Twitter, and Telegram, copyright information, promoting responsible sports entertainment, terms and conditions, privacy policy, information about Nowgoal as a company, contact information, help and support, frequently asked questions, live streaming of sports events, odds comparison for sports betting, and age restrictions for using Nowgoal's services.\"}\n"
          ]
        }
      ],
      "source": [
        "print(map_reduce_chain.invoke(split_docs))"
      ]
    },
    {
      "cell_type": "code",
      "execution_count": 15,
      "metadata": {
        "id": "uAxgAKtsCXwV"
      },
      "outputs": [],
      "source": [
        "prompt_template = \"\"\"Write a concise summary of the following:\n",
        "{text}\n",
        "CONCISE SUMMARY:\"\"\"\n",
        "prompt = PromptTemplate.from_template(prompt_template)\n",
        "\n",
        "refine_template = (\n",
        "    \"Your job is to produce a final summary\\n\"\n",
        "    \"We have provided an existing summary up to a certain point: {existing_answer}\\n\"\n",
        "    \"We have the opportunity to refine the existing summary\"\n",
        "    \"(only if needed) with some more context below.\\n\"\n",
        "    \"------------\\n\"\n",
        "    \"{text}\\n\"\n",
        "    \"------------\\n\"\n",
        "    \"Given the new context, refine the original summary\"\n",
        "    \"If the context isn't useful, return the original summary.\"\n",
        ")\n",
        "refine_prompt = PromptTemplate.from_template(refine_template)\n",
        "chain = load_summarize_chain(\n",
        "    llm=llm,\n",
        "    chain_type=\"refine\",\n",
        "    question_prompt=prompt,\n",
        "    refine_prompt=refine_prompt,\n",
        "    return_intermediate_steps=True,\n",
        "    input_key=\"input_documents\",\n",
        "    output_key=\"output_text\",\n",
        ")\n",
        "result = chain({\"input_documents\": split_docs}, return_only_outputs=True)\n",
        "\n",
        "# Page 1 --> Page 2 (Refine) --> Page 3 (Refine)"
      ]
    }
  ],
  "metadata": {
    "colab": {
      "provenance": []
    },
    "kernelspec": {
      "display_name": "base",
      "language": "python",
      "name": "python3"
    },
    "language_info": {
      "codemirror_mode": {
        "name": "ipython",
        "version": 3
      },
      "file_extension": ".py",
      "mimetype": "text/x-python",
      "name": "python",
      "nbconvert_exporter": "python",
      "pygments_lexer": "ipython3",
      "version": "3.12.1"
    },
    "orig_nbformat": 4
  },
  "nbformat": 4,
  "nbformat_minor": 0
}
