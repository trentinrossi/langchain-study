{
 "cells": [
  {
   "cell_type": "code",
   "execution_count": null,
   "metadata": {},
   "outputs": [],
   "source": [
    "%pip install langchain langchain-openai"
   ]
  },
  {
   "cell_type": "code",
   "execution_count": 1,
   "metadata": {},
   "outputs": [],
   "source": [
    "from langchain_openai import ChatOpenAI\n",
    "\n",
    "llm = ChatOpenAI()"
   ]
  },
  {
   "cell_type": "code",
   "execution_count": 3,
   "metadata": {},
   "outputs": [
    {
     "name": "stdout",
     "output_type": "stream",
     "text": [
      "content='Langsmith can help with testing in several ways:\\n\\n1. Test Automation: Langsmith can automate the testing process by generating test cases and test data. It can generate a wide range of test scenarios, including positive and negative cases, edge cases, and boundary conditions. This can significantly speed up the testing process and ensure comprehensive test coverage.\\n\\n2. Test Oracles: Langsmith can act as a test oracle by automatically checking the correctness of the system under test. It can compare the expected output with the actual output and identify any discrepancies, helping in the early detection of bugs and issues.\\n\\n3. Test Coverage Analysis: Langsmith can analyze the code coverage of the tests, helping testers identify areas of the system that have not been adequately tested. This can help in improving test coverage and ensuring that all parts of the system are thoroughly tested.\\n\\n4. Regression Testing: Langsmith can assist in automating regression testing, which involves retesting the system after making changes or updates to ensure that the existing functionalities are not affected. It can generate regression test cases and compare the previous and current outputs to identify any regression issues.\\n\\n5. Performance Testing: Langsmith can generate test cases to evaluate the performance of the system under different loads and stress conditions. It can simulate a large number of concurrent users and measure system response times, helping in identifying performance bottlenecks and areas for optimization.\\n\\nOverall, Langsmith can enhance the efficiency, accuracy, and effectiveness of the testing process, leading to improved software quality and faster time-to-market.'\n"
     ]
    }
   ],
   "source": [
    "rsp = llm.invoke(\"how can langsmith help with testing?\")\n",
    "print(rsp)"
   ]
  },
  {
   "cell_type": "markdown",
   "metadata": {},
   "source": [
    "We can also guide it's response with a prompt template. Prompt templates are used to convert raw user input to a better input to the LLM."
   ]
  },
  {
   "cell_type": "code",
   "execution_count": 4,
   "metadata": {},
   "outputs": [
    {
     "data": {
      "text/plain": [
       "AIMessage(content=\"Langsmith can greatly assist with testing by providing a powerful and flexible language generation engine. Here are some ways Langsmith can enhance the testing process:\\n\\n1. Test Data Generation: Langsmith can generate a wide range of realistic and diverse test data. By specifying the desired format, constraints, and variations, it can quickly create large datasets for testing various scenarios, edge cases, and boundary conditions.\\n\\n2. Test Case Generation: Langsmith can automatically generate test cases based on predefined templates or specifications. It can generate both positive and negative test cases, covering different combinations of inputs and expected outputs.\\n\\n3. Test Automation: Langsmith can be integrated into test automation frameworks to generate dynamic test inputs and validate the corresponding outputs. It can help automate the execution of repetitive test cases and improve overall efficiency.\\n\\n4. Documentation Validation: Langsmith can be used to validate technical documentation, ensuring that the examples and code snippets provided are accurate and up to date. It can verify that the documentation reflects the current behavior of the software, reducing confusion and potential errors.\\n\\n5. Localization Testing: Langsmith's language generation capabilities can help with localization testing by generating localized strings or content in various languages. It can ensure that the software behaves correctly when presented with different language inputs or when handling multilingual scenarios.\\n\\n6. Accessibility Testing: Langsmith can assist in accessibility testing by generating text that covers a wide range of accessibility requirements. It can create content with different font sizes, colors, contrast ratios, and assistive technology interactions to validate the accessibility features of the software.\\n\\nOverall, Langsmith can save time and effort in testing by automating the generation of test cases, test data, and documentation validation. It enhances the quality and coverage of testing while improving overall efficiency in the testing process.\")"
      ]
     },
     "execution_count": 4,
     "metadata": {},
     "output_type": "execute_result"
    }
   ],
   "source": [
    "from langchain_core.prompts import ChatPromptTemplate\n",
    "prompt = ChatPromptTemplate.from_messages([\n",
    "    (\"system\", \"You are world class technical documentation writer.\"),\n",
    "    (\"user\", \"{input}\")\n",
    "])\n",
    "\n",
    "chain = prompt | llm\n",
    "chain.invoke({\"input\": \"how can langsmith help with testing?\"})"
   ]
  },
  {
   "cell_type": "markdown",
   "metadata": {},
   "source": [
    "The output of a ChatModel (and therefore, of this chain) is a message. However, it's often much more convenient to work with strings. Let's add a simple output parser to convert the chat message to a string."
   ]
  },
  {
   "cell_type": "code",
   "execution_count": 5,
   "metadata": {},
   "outputs": [
    {
     "data": {
      "text/plain": [
       "\"Langsmith can greatly assist with testing processes by providing automated language testing capabilities. It can help in the following ways:\\n\\n1. Language Identification: Langsmith can accurately identify the language of a given piece of text. This is particularly useful in scenarios where testing involves multiple language inputs, such as language-specific features or language-dependent behavior.\\n\\n2. Language Verification: It can verify whether the language used in a document or software matches the expected language. This ensures that the correct language is being used consistently throughout the application or content being tested.\\n\\n3. Language Validation: Langsmith can validate the correctness of language-specific constructs, such as grammar rules, syntax, and spelling. It can help in identifying language-related errors that may impact the quality and usability of the software or content.\\n\\n4. Localization Testing: With its language identification and verification capabilities, Langsmith can assist in localization testing. It can ensure that the software or content is properly translated and adapted for different languages and cultural contexts.\\n\\n5. Test Data Generation: Langsmith can generate test data in different languages, allowing testers to simulate various language scenarios. This helps in ensuring that the software or content behaves correctly when faced with different languages, characters, and language-specific requirements.\\n\\n6. Language-specific Test Automation: In cases where testing involves language-specific features or functionality, Langsmith can provide automated test solutions. It can simulate user interactions, input data, and expected language-specific outputs to verify the correctness of such features.\\n\\nOverall, Langsmith's language testing capabilities can save time, improve accuracy, and enhance the effectiveness of testing processes by automating language-related verification and validation.\""
      ]
     },
     "execution_count": 5,
     "metadata": {},
     "output_type": "execute_result"
    }
   ],
   "source": [
    "from langchain_core.output_parsers import StrOutputParser\n",
    "\n",
    "output_parser = StrOutputParser()\n",
    "chain = prompt | llm | output_parser\n",
    "chain.invoke({\"input\": \"how can langsmith help with testing?\"})"
   ]
  }
 ],
 "metadata": {
  "kernelspec": {
   "display_name": "Python 3",
   "language": "python",
   "name": "python3"
  },
  "language_info": {
   "codemirror_mode": {
    "name": "ipython",
    "version": 3
   },
   "file_extension": ".py",
   "mimetype": "text/x-python",
   "name": "python",
   "nbconvert_exporter": "python",
   "pygments_lexer": "ipython3",
   "version": "3.12.1"
  }
 },
 "nbformat": 4,
 "nbformat_minor": 2
}
