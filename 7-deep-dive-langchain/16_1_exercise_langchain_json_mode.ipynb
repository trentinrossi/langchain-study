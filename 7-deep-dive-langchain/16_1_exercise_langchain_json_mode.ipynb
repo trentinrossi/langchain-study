{
  "cells": [
    {
      "cell_type": "code",
      "execution_count": null,
      "metadata": {
        "id": "4PvOyUoiBkVv"
      },
      "outputs": [],
      "source": [
        "%pip install langchain langchain_openai --upgrade"
      ]
    },
    {
      "cell_type": "code",
      "execution_count": null,
      "metadata": {
        "id": "3zWyW7ewBkVw"
      },
      "outputs": [],
      "source": [
        "import os\n",
        "\n",
        "os.environ[\"OPENAI_API_KEY\"] = \"API_KEY_HERE\""
      ]
    },
    {
      "cell_type": "code",
      "execution_count": null,
      "metadata": {
        "id": "QxS-T7nOBkVw"
      },
      "outputs": [],
      "source": [
        "import json\n",
        "from langchain_openai.chat_models import ChatOpenAI\n",
        "from langchain_core.messages import SystemMessage, HumanMessage"
      ]
    },
    {
      "cell_type": "code",
      "execution_count": null,
      "metadata": {
        "id": "8psrGZdrBkVw"
      },
      "outputs": [],
      "source": [
        "# 0. Update the model name and model kwargs:\n",
        "chat = ChatOpenAI(model=\"<<model name>>\", model_kwargs={})"
      ]
    },
    {
      "cell_type": "code",
      "execution_count": null,
      "metadata": {
        "id": "v7kCwNBzBkVw"
      },
      "outputs": [],
      "source": [
        "# 1. Create a system message prompt:\n",
        "system_message =\n",
        "\n",
        "# 2. Create a user message prompt:\n",
        "user_message ="
      ]
    },
    {
      "cell_type": "code",
      "execution_count": null,
      "metadata": {
        "id": "e1EAtJUpBkVw"
      },
      "outputs": [],
      "source": [
        "# 3. Call the chat model:\n",
        "chat()"
      ]
    },
    {
      "cell_type": "code",
      "execution_count": null,
      "metadata": {
        "id": "ygX8u_HjBkVw"
      },
      "outputs": [],
      "source": [
        "# 4. Update this try, except block to handle the response:\n",
        "try:\n",
        "    pass\n",
        "except json.decoder.JSONDecodeError:\n",
        "    pass"
      ]
    }
  ],
  "metadata": {
    "kernelspec": {
      "display_name": "base",
      "language": "python",
      "name": "python3"
    },
    "language_info": {
      "codemirror_mode": {
        "name": "ipython",
        "version": 3
      },
      "file_extension": ".py",
      "mimetype": "text/x-python",
      "name": "python",
      "nbconvert_exporter": "python",
      "pygments_lexer": "ipython3",
      "version": "3.9.13"
    },
    "colab": {
      "provenance": []
    }
  },
  "nbformat": 4,
  "nbformat_minor": 0
}