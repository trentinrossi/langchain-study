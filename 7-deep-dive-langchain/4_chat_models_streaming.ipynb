{
  "cells": [
    {
      "cell_type": "markdown",
      "metadata": {
        "id": "z3kDz_ZhCq82"
      },
      "source": [
        "## Chat Models - Streaming\n",
        "\n",
        "Some Chat models provide a streaming response. This means that instead of waiting for the entire response to be returned, you can start processing it as soon as it's available. This is useful if you want to display the response to the user as it's being generated, or if you want to process the response as it's being generated.\n"
      ]
    },
    {
      "cell_type": "code",
      "execution_count": null,
      "metadata": {
        "id": "7rKsMugiCq84"
      },
      "outputs": [],
      "source": [
        "%pip install langchain langchain_openai --upgrade"
      ]
    },
    {
      "cell_type": "code",
      "execution_count": null,
      "metadata": {
        "id": "OYocIZdfCq85"
      },
      "outputs": [],
      "source": [
        "import os\n",
        "os.environ['OPENAI_API_KEY'] = 'API_KEY_HERE'"
      ]
    },
    {
      "cell_type": "code",
      "execution_count": 1,
      "metadata": {
        "id": "jKFwWzshCq85",
        "outputId": "f30d185f-03bc-434b-d258-b6f42fc913d5"
      },
      "outputs": [
        {
          "name": "stderr",
          "output_type": "stream",
          "text": [
            "c:\\Users\\rgri\\AppData\\Local\\Programs\\Python\\Python312\\Lib\\site-packages\\langchain_core\\_api\\deprecation.py:117: LangChainDeprecationWarning: The function `__call__` was deprecated in LangChain 0.1.7 and will be removed in 0.2.0. Use invoke instead.\n",
            "  warn_deprecated(\n"
          ]
        },
        {
          "name": "stdout",
          "output_type": "stream",
          "text": [
            "(Verse 1)\n",
            "In a world of thirst, where the sun shines bright,\n",
            "There's a drink that brings delight, day or night.\n",
            "Bubbles dancing, effervescent delight,\n",
            "It's the magic in a bottle, sparkling water's light.\n",
            "\n",
            "(Chorus)\n",
            "Oh, sparkling water, you're a refreshing dream,\n",
            "A symphony of bubbles, like stars that gleam.\n",
            "With every sip, you take me higher,\n",
            "Oh, sparkling water, you're my sparkling desire.\n",
            "\n",
            "(Verse 2)\n",
            "From the mountains high, where springs do flow,\n",
            "Comes a liquid so pure, a heavenly show.\n",
            "Crystal clear, like diamonds in the sky,\n",
            "It's the elixir of life, let it satisfy.\n",
            "\n",
            "(Chorus)\n",
            "Oh, sparkling water, you're a refreshing dream,\n",
            "A symphony of bubbles, like stars that gleam.\n",
            "With every sip, you take me higher,\n",
            "Oh, sparkling water, you're my sparkling desire.\n",
            "\n",
            "(Bridge)\n",
            "With a fizz and a pop, you awaken my soul,\n",
            "Quenching my thirst, making me whole.\n",
            "No need for sugar, you're naturally divine,\n",
            "A taste so crisp, like a sparkling wine.\n",
            "\n",
            "(Verse 3)\n",
            "In a world of choices, you stand apart,\n",
            "A healthy companion, a work of art.\n",
            "With flavors aplenty, a variety so grand,\n",
            "You're the perfect partner, hand in hand.\n",
            "\n",
            "(Chorus)\n",
            "Oh, sparkling water, you're a refreshing dream,\n",
            "A symphony of bubbles, like stars that gleam.\n",
            "With every sip, you take me higher,\n",
            "Oh, sparkling water, you're my sparkling desire.\n",
            "\n",
            "(Outro)\n",
            "So raise your glass, let the bubbles rise,\n",
            "To the joy you bring, let's harmonize.\n",
            "Oh, sparkling water, you're a sparkling delight,\n",
            "Forever in my heart, you'll shine so bright."
          ]
        }
      ],
      "source": [
        "from langchain_openai.chat_models import ChatOpenAI\n",
        "from langchain_core.messages import (\n",
        "    HumanMessage,\n",
        ")\n",
        "\n",
        "from langchain.callbacks.streaming_stdout import StreamingStdOutCallbackHandler\n",
        "\n",
        "# You must add the openai_api_key if you don't have an environment variable set:\n",
        "# chat = ChatOpenAI(openai_api_key=\"...\", ...)\n",
        "\n",
        "# If you have an envionrment variable set for OPENAI_API_KEY, you can just do:\n",
        "chat = ChatOpenAI(\n",
        "    streaming=True, callbacks=[StreamingStdOutCallbackHandler()], temperature=0\n",
        ")\n",
        "resp = chat([HumanMessage(content=\"Write me a song about sparkling water.\")])"
      ]
    }
  ],
  "metadata": {
    "colab": {
      "provenance": []
    },
    "kernelspec": {
      "display_name": "base",
      "language": "python",
      "name": "python3"
    },
    "language_info": {
      "codemirror_mode": {
        "name": "ipython",
        "version": 3
      },
      "file_extension": ".py",
      "mimetype": "text/x-python",
      "name": "python",
      "nbconvert_exporter": "python",
      "pygments_lexer": "ipython3",
      "version": "3.12.1"
    },
    "orig_nbformat": 4
  },
  "nbformat": 4,
  "nbformat_minor": 0
}
