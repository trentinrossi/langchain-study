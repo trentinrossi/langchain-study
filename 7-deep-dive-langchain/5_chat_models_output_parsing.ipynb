{
  "cells": [
    {
      "cell_type": "markdown",
      "metadata": {
        "id": "6DPegCdDCmu_"
      },
      "source": [
        "## Chat Models - Output Parsing\n"
      ]
    },
    {
      "cell_type": "markdown",
      "metadata": {
        "id": "8UJBKHVGCmvB"
      },
      "source": [
        "Language models output text. But many times you may want to get more structured information than just text back. This is where output parsers come in.\n",
        "\n",
        "Output parsers are classes that help structure language model responses. There are two main methods an output parser must implement:\n",
        "\n",
        "\"Get format instructions\": A method which returns a string containing instructions for how the output of a language model should be formatted.\n",
        "\"Parse\": A method which takes in a string (assumed to be the response from a language model) and parses it into some structure.\n",
        "And then one optional one:\n",
        "\n",
        "\"Parse with prompt\": A method which takes in a string (assumed to be the response from a language model) and a prompt (assumed to the prompt that generated such a response) and parses it into some structure. The prompt is largely provided in the event the OutputParser wants to retry or fix the output in some way, and needs information from the prompt to do so.\n"
      ]
    },
    {
      "cell_type": "code",
      "execution_count": null,
      "metadata": {
        "id": "6904xsD6CmvB"
      },
      "outputs": [],
      "source": [
        "%pip install langchain langchain_openai --upgrade"
      ]
    },
    {
      "cell_type": "code",
      "execution_count": null,
      "metadata": {
        "id": "Rc8ZkpsTCmvC"
      },
      "outputs": [],
      "source": [
        "import os\n",
        "os.environ['OPENAI_API_KEY'] = 'API_KEY_HERE'"
      ]
    },
    {
      "cell_type": "code",
      "execution_count": 1,
      "metadata": {
        "id": "03c2q5J9CmvC"
      },
      "outputs": [],
      "source": [
        "from langchain_core.prompts import (\n",
        "    ChatPromptTemplate,\n",
        "    SystemMessagePromptTemplate,\n",
        ")\n",
        "from langchain_openai.chat_models import ChatOpenAI\n",
        "\n",
        "from langchain.output_parsers import PydanticOutputParser\n",
        "from pydantic import BaseModel, Field, validator"
      ]
    },
    {
      "cell_type": "code",
      "execution_count": 2,
      "metadata": {
        "id": "497oUzHhCmvC"
      },
      "outputs": [],
      "source": [
        "# chat = ChatOpenAI(openai_api_key=\"...\")\n",
        "\n",
        "# If you have an envionrment variable set for OPENAI_API_KEY, you can just do:\n",
        "chat = ChatOpenAI(temperature=0)"
      ]
    },
    {
      "cell_type": "code",
      "execution_count": 3,
      "metadata": {
        "id": "smCK6y6bCmvD"
      },
      "outputs": [],
      "source": [
        "from typing import List\n",
        "\n",
        "\n",
        "class Joke(BaseModel):\n",
        "    setup: str = Field(description=\"question to set up a joke\")\n",
        "    punchline: str = Field(description=\"answer to resolve the joke\")\n",
        "\n",
        "\n",
        "class Jokes(BaseModel):\n",
        "    jokes: List[Joke] = Field(description=\"list of jokes\")"
      ]
    },
    {
      "cell_type": "code",
      "execution_count": 4,
      "metadata": {
        "id": "GE5nZXzsCmvD"
      },
      "outputs": [],
      "source": [
        "# Set up a parser + inject instructions into the prompt template.\n",
        "parser = PydanticOutputParser(pydantic_object=Jokes)"
      ]
    },
    {
      "cell_type": "code",
      "execution_count": 5,
      "metadata": {
        "id": "AH1mp_JcCmvD"
      },
      "outputs": [],
      "source": [
        "template = \"Answer the user query.\\n{format_instructions}\\n{query}\\n\"\n",
        "system_message_prompt = SystemMessagePromptTemplate.from_template(template)\n",
        "chat_prompt = ChatPromptTemplate.from_messages([system_message_prompt])"
      ]
    },
    {
      "cell_type": "code",
      "execution_count": 6,
      "metadata": {
        "id": "GiLNMetOCmvD",
        "outputId": "a2efb60b-f079-426a-b4f1-766c46bdee0c"
      },
      "outputs": [
        {
          "data": {
            "text/plain": [
              "'The output should be formatted as a JSON instance that conforms to the JSON schema below.\\n\\nAs an example, for the schema {\"properties\": {\"foo\": {\"title\": \"Foo\", \"description\": \"a list of strings\", \"type\": \"array\", \"items\": {\"type\": \"string\"}}}, \"required\": [\"foo\"]}\\nthe object {\"foo\": [\"bar\", \"baz\"]} is a well-formatted instance of the schema. The object {\"properties\": {\"foo\": [\"bar\", \"baz\"]}} is not well-formatted.\\n\\nHere is the output schema:\\n```\\n{\"$defs\": {\"Joke\": {\"properties\": {\"setup\": {\"description\": \"question to set up a joke\", \"title\": \"Setup\", \"type\": \"string\"}, \"punchline\": {\"description\": \"answer to resolve the joke\", \"title\": \"Punchline\", \"type\": \"string\"}}, \"required\": [\"setup\", \"punchline\"], \"title\": \"Joke\", \"type\": \"object\"}}, \"properties\": {\"jokes\": {\"description\": \"list of jokes\", \"items\": {\"$ref\": \"#/$defs/Joke\"}, \"title\": \"Jokes\", \"type\": \"array\"}}, \"required\": [\"jokes\"]}\\n```'"
            ]
          },
          "execution_count": 6,
          "metadata": {},
          "output_type": "execute_result"
        }
      ],
      "source": [
        "parser.get_format_instructions()"
      ]
    },
    {
      "cell_type": "code",
      "execution_count": 12,
      "metadata": {
        "id": "KtffZy7MCmvD"
      },
      "outputs": [],
      "source": [
        "# Format the chat prompt:\n",
        "messages = chat_prompt.format_prompt(\n",
        "    format_instructions=parser.get_format_instructions(),\n",
        "    query=\"What's really funny about Python programming?\",\n",
        ").to_messages()"
      ]
    },
    {
      "cell_type": "code",
      "execution_count": 13,
      "metadata": {
        "id": "0qmHwd1RCmvE"
      },
      "outputs": [],
      "source": [
        "result = chat.invoke(messages)"
      ]
    },
    {
      "cell_type": "code",
      "execution_count": 14,
      "metadata": {
        "id": "8b0vz7nDCmvE",
        "outputId": "3c81d065-6fbc-4444-a4d0-01f9beb19d35"
      },
      "outputs": [
        {
          "name": "stdout",
          "output_type": "stream",
          "text": [
            "{\"jokes\": [{\"setup\": \"What's really funny about Python programming?\", \"punchline\": \"IndentationError: unexpected indent\"}]}\n"
          ]
        }
      ],
      "source": [
        "print(result.content)"
      ]
    },
    {
      "cell_type": "code",
      "execution_count": 15,
      "metadata": {
        "id": "owZqqHwFCmvE"
      },
      "outputs": [],
      "source": [
        "joke_pydantic_object = parser.parse(result.content)"
      ]
    },
    {
      "cell_type": "code",
      "execution_count": 16,
      "metadata": {
        "id": "xueWkx7aCmvE",
        "outputId": "8d3d7fe8-05e5-4a97-f7dd-11ab1accc8c6"
      },
      "outputs": [
        {
          "name": "stderr",
          "output_type": "stream",
          "text": [
            "C:\\Users\\rgri\\AppData\\Local\\Temp\\ipykernel_12824\\1662641841.py:1: PydanticDeprecatedSince20: The `dict` method is deprecated; use `model_dump` instead. Deprecated in Pydantic V2.0 to be removed in V3.0. See Pydantic V2 Migration Guide at https://errors.pydantic.dev/2.5/migration/\n",
            "  joke_pydantic_object.dict()\n"
          ]
        },
        {
          "data": {
            "text/plain": [
              "{'jokes': [{'setup': \"What's really funny about Python programming?\",\n",
              "   'punchline': 'IndentationError: unexpected indent'}]}"
            ]
          },
          "execution_count": 16,
          "metadata": {},
          "output_type": "execute_result"
        }
      ],
      "source": [
        "joke_pydantic_object.dict()"
      ]
    },
    {
      "cell_type": "code",
      "execution_count": 17,
      "metadata": {
        "id": "-v9Yh_seCmvE",
        "outputId": "11717af4-8e48-44d7-f3e1-ce7c244544bb"
      },
      "outputs": [
        {
          "data": {
            "text/plain": [
              "[Joke(setup=\"What's really funny about Python programming?\", punchline='IndentationError: unexpected indent')]"
            ]
          },
          "execution_count": 17,
          "metadata": {},
          "output_type": "execute_result"
        }
      ],
      "source": [
        "joke_pydantic_object.jokes"
      ]
    },
    {
      "cell_type": "code",
      "execution_count": 18,
      "metadata": {
        "id": "gaC6z42cCmvE",
        "outputId": "bd47af65-6c51-45a8-f27b-a404f05fc6f0"
      },
      "outputs": [
        {
          "data": {
            "text/plain": [
              "'IndentationError: unexpected indent'"
            ]
          },
          "execution_count": 18,
          "metadata": {},
          "output_type": "execute_result"
        }
      ],
      "source": [
        "joke_pydantic_object.jokes[0].punchline"
      ]
    }
  ],
  "metadata": {
    "colab": {
      "provenance": []
    },
    "kernelspec": {
      "display_name": "base",
      "language": "python",
      "name": "python3"
    },
    "language_info": {
      "codemirror_mode": {
        "name": "ipython",
        "version": 3
      },
      "file_extension": ".py",
      "mimetype": "text/x-python",
      "name": "python",
      "nbconvert_exporter": "python",
      "pygments_lexer": "ipython3",
      "version": "3.12.1"
    },
    "orig_nbformat": 4
  },
  "nbformat": 4,
  "nbformat_minor": 0
}
